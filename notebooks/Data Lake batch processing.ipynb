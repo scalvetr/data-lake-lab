﻿{
  "metadata": {
    "name": "Data Lake: batch processing",
    "kernelspec": {
      "language": "scala",
      "name": "spark2-scala"
    },
    "language_info": {
      "codemirror_mode": "text/x-scala",
      "file_extension": ".scala",
      "mimetype": "text/x-scala",
      "name": "scala",
      "pygments_lexer": "scala"
    }
  },
  "nbformat": 4,
  "nbformat_minor": 2,
  "cells": [
    {
      "cell_type": "markdown",
      "metadata": {},
      "source": "# Batch Processing with Spark\n\n## Spark Configuration\n| Setting | Value | Description |\n| ---- | ---- | ---- |\n| spark.master | spark://spark-master:7077 | - |\n| spark.jars.packages | org.apache.spark:spark-avro_2.11:2.4.0,org.apache.spark:spark-sql-kafka-0-10_2.11:2.4.0 | - |"
    },
    {
      "cell_type": "code",
      "execution_count": 1,
      "metadata": {
        "autoscroll": "auto"
      },
      "outputs": [],
      "source": "%sh\n\nhdfs dfs -ls /data/santander/sensor_traffic/"
    },
    {
      "cell_type": "code",
      "execution_count": 2,
      "metadata": {
        "autoscroll": "auto"
      },
      "outputs": [],
      "source": "%spark\n\n// Crearemos un Dataframe con la información obtenida del JSON\nval sensorTrafficDF \u003d spark.read.format(\"avro\").load(\"hdfs://hdfs-namenode:8020/data/santander/sensor_traffic/\")\nsensorTrafficDF.show()"
    },
    {
      "cell_type": "code",
      "execution_count": 3,
      "metadata": {
        "autoscroll": "auto"
      },
      "outputs": [],
      "source": "%pyspark\n\nsensorTrafficDF \u003d spark.read.format(\"avro\").load(\"hdfs://hdfs-namenode:8020/data/santander/sensor_traffic/\")\nsensorTrafficDF.show()"
    },
    {
      "cell_type": "code",
      "execution_count": 4,
      "metadata": {
        "autoscroll": "auto"
      },
      "outputs": [],
      "source": "%sh\n\nhdfs dfs -ls /data/santander/tweets_turismosdr\n"
    },
    {
      "cell_type": "code",
      "execution_count": 5,
      "metadata": {
        "autoscroll": "auto"
      },
      "outputs": [],
      "source": "%pyspark\n\ntweetsDF \u003d spark.read.format(\"avro\").load(\"hdfs://hdfs-namenode:8020/data/santander/tweets_turismosdr/\")\ntweetsDF.show()\n"
    },
    {
      "cell_type": "code",
      "execution_count": 6,
      "metadata": {
        "autoscroll": "auto"
      },
      "outputs": [],
      "source": "%pyspark\n\ntweetsDF.printSchema()"
    },
    {
      "cell_type": "code",
      "execution_count": 7,
      "metadata": {
        "autoscroll": "auto"
      },
      "outputs": [],
      "source": "%pyspark\n\nfrom pyspark.sql.functions import col, udf\nfrom pyspark.sql.types import IntegerType\n\nprocess_text_udf \u003d udf(lambda text: len(text), IntegerType())\n\ntweetsSummaryDF \u003d tweetsDF.select(\"id\", \"created_at\", \"lang\", \"text\", \"user.screen_name\") \\\n    .withColumnRenamed(\"screen_name\", \"user_name\") \\\n    .withColumn(\"length\", process_text_udf(tweetsDF[\u0027text\u0027]))\n\n\ntweetsSummaryDF.show()\n"
    },
    {
      "cell_type": "code",
      "execution_count": 8,
      "metadata": {
        "autoscroll": "auto"
      },
      "outputs": [],
      "source": "%pyspark\n\ntweetsSummaryDF.createOrReplaceTempView(\"tweets_summary\")\n\nsql_statement \u003d \"\"\"\nSELECT lang, COUNT(*), AVG(length) AS avg_length FROM tweets_summary GROUP BY lang\n\n\"\"\"\n\nspark.sql(sql_statement).write.format(\u0027jdbc\u0027).options(\n      url\u003d\u0027jdbc:mysql://mysql/big-data-db\u0027,\n      driver\u003d\u0027com.mysql.cj.jdbc.Driver\u0027,\n      dbtable\u003d\u0027tweets_length_by_lang\u0027,\n      user\u003d\u0027big-data-user\u0027,\n      password\u003d\u0027big-data-user\u0027).save()"
    },
    {
      "cell_type": "code",
      "execution_count": 9,
      "metadata": {
        "autoscroll": "auto"
      },
      "outputs": [],
      "source": "%mysql\n\nshow tables;\nselect * from tweets_length_by_lang;\n"
    },
    {
      "cell_type": "markdown",
      "metadata": {},
      "source": "```shell\ndocker exec -it big-data-lab-mysql /usr/bin/mysql -u big-data-user -p\nEnter password: \nWelcome to the MySQL monitor.  Commands end with ; or \\g.\nYour MySQL connection id is 24\nServer version: 8.0.22 MySQL Community Server - GPL\n\nCopyright (c) 2000, 2020, Oracle and/or its affiliates. All rights reserved.\n\nOracle is a registered trademark of Oracle Corporation and/or its\naffiliates. Other names may be trademarks of their respective\nowners.\n\nType \u0027help;\u0027 or \u0027\\h\u0027 for help. Type \u0027\\c\u0027 to clear the current input statement.\n\nmysql\u003e use big-data-db\nDatabase changed\nmysql\u003e show tables;\n+-----------------------+\n| Tables_in_big-data-db |\n+-----------------------+\n| tweets_length_by_lang |\n+-----------------------+\n1 row in set (0.01 sec)\n\nmysql\u003e select * from tweets_length_by_lang limit 10;\n+------+----------+--------------------+\n| lang | count(1) | avg_length         |\n+------+----------+--------------------+\n| en   |     3430 |  90.86297376093295 |\n| vi   |        9 | 50.666666666666664 |\n| ne   |        4 |              85.75 |\n| ps   |        1 |                132 |\n| ro   |        2 |              113.5 |\n| sl   |        1 |                 29 |\n| und  |      761 |  36.81997371879106 |\n| ur   |       15 | 118.06666666666666 |\n| lv   |        3 |                 23 |\n| pl   |        8 |             60.625 |\n+------+----------+--------------------+\n10 rows in set (0.00 sec)\n\nmysql\u003e \n\nmysql\u003e \n```\n"
    },
    {
      "cell_type": "markdown",
      "metadata": {},
      "source": ""
    }
  ]
}