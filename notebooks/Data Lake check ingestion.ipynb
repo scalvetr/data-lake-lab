﻿{
  "metadata": {
    "name": "Data Lake: check ingestion",
    "kernelspec": {
      "language": "scala",
      "name": "spark2-scala"
    },
    "language_info": {
      "codemirror_mode": "text/x-scala",
      "file_extension": ".scala",
      "mimetype": "text/x-scala",
      "name": "scala",
      "pygments_lexer": "scala"
    }
  },
  "nbformat": 4,
  "nbformat_minor": 2,
  "cells": [
    {
      "cell_type": "code",
      "execution_count": 0,
      "metadata": {
        "autoscroll": "auto"
      },
      "outputs": [],
      "source": "%hive\n\nDROP DATABASE santander_data;\nCREATE DATABASE santander_data;\nshow databases;\nUSE santander_data;"
    },
    {
      "cell_type": "markdown",
      "metadata": {},
      "source": "Check the content in `/data/santander/sensor_traffic` folder in the HDFS filesystem. Should be accessible throug the following url `hdfs://hdfs-namenode:8020/data/santander/sensor_traffic`.\n\nThe message is encoded in AVRO format, the message contains the scheme embedded, for simplicity no shcema registry used.\n```json\n{\n  \"namespace\": \"nifi\",\n  \"name\": \"enriched_sensor_event\",\n  \"type\": \"record\",\n  \"fields\": [\n    { \"name\": \"sensor\", \"type\":\"string\" },\n    { \"name\": \"load\", \"type\":\"int\" },\n    { \"name\": \"occupation\", \"type\":\"int\" },\n    { \"name\": \"intensity\", \"type\":\"int\" },\n    { \"name\": \"event_id\", \"type\":\"string\" },\n    { \"name\": \"event_ts\", \"type\":\"string\" },\n    {\n      \"name\": \"location\",\n      \"type\": [ \"null\", {\n        \"type\" : \"record\",\n        \"name\" : \"location_record\",\n        \"fields\" : [\n          { \"name\": \"lon\", \"type\":\"string\" },\n          { \"name\": \"lat\", \"type\":\"string\" }\n        ]\n      }]\n    }\n  ]\n}\n```\n"
    },
    {
      "cell_type": "code",
      "execution_count": 2,
      "metadata": {
        "autoscroll": "auto"
      },
      "outputs": [],
      "source": "%sh\n\n\nhdfs dfs -ls /data/santander/sensor_traffic\n\n#hdfs dfs -rm /data/santander/sensor_traffic/*"
    },
    {
      "cell_type": "code",
      "execution_count": 3,
      "metadata": {
        "autoscroll": "auto"
      },
      "outputs": [],
      "source": "%sh\n\nhdfs dfs -cat /data/santander/sensor_traffic/007ffced-3c68-443c-9bf3-c89c71754174\n"
    },
    {
      "cell_type": "code",
      "execution_count": 4,
      "metadata": {
        "autoscroll": "auto"
      },
      "outputs": [],
      "source": "%hive\n\nDROP TABLE sensors_traffic;\nCREATE EXTERNAL TABLE sensors_traffic\nROW FORMAT SERDE \u0027org.apache.hadoop.hive.serde2.avro.AvroSerDe\u0027 \nSTORED as INPUTFORMAT \u0027org.apache.hadoop.hive.ql.io.avro.AvroContainerInputFormat\u0027 \nOUTPUTFORMAT \u0027org.apache.hadoop.hive.ql.io.avro.AvroContainerOutputFormat\u0027 \nLOCATION \u0027hdfs://hdfs-namenode:8020/data/santander/sensor_traffic\u0027\nTBLPROPERTIES (\u0027avro.schema.literal\u0027\u003d\u0027{\n  \"namespace\": \"nifi\",\n  \"name\": \"enriched_sensor_event\",\n  \"type\": \"record\",\n  \"fields\": [\n    { \"name\": \"sensor\", \"type\":\"string\" },\n    { \"name\": \"load\", \"type\":\"int\" },\n    { \"name\": \"occupation\", \"type\":\"int\" },\n    { \"name\": \"intensity\", \"type\":\"int\" },\n    { \"name\": \"event_id\", \"type\":\"string\" },\n    { \"name\": \"event_ts\", \"type\":\"string\" },\n    {\n      \"name\": \"location\",\n      \"type\": [ \"null\", {\n        \"type\" : \"record\",\n        \"name\" : \"location_record\",\n        \"fields\" : [\n          { \"name\": \"lon\", \"type\":\"string\" },\n          { \"name\": \"lat\", \"type\":\"string\" }\n        ]\n      }]\n    }\n  ]\n}\u0027);\n\n"
    },
    {
      "cell_type": "code",
      "execution_count": 5,
      "metadata": {
        "autoscroll": "auto"
      },
      "outputs": [],
      "source": "%hive\n\nselect * from sensors_traffic;"
    },
    {
      "cell_type": "code",
      "execution_count": 6,
      "metadata": {
        "autoscroll": "auto"
      },
      "outputs": [],
      "source": "%hive\n\nSET hive.txn.manager\u003dorg.apache.hadoop.hive.ql.lockmgr.DbTxnManager;\nSET hive.support.concurrency\u003dtrue;\nSET hive.enforce.bucketing\u003dtrue;\nSET hive.exec.dynamic.partition.mode\u003dnonstrict;\n\nCREATE TABLE IF NOT EXISTS sensors_traffic_stream(\nevent_id string, \nload int,\noccupation int,\nintensity int,\nevent_ts String,\nsensor String, \nlon String, lat String) \nCOMMENT \u0027Traffic Sensors\u0027 \nPARTITIONED BY (`loaded_ts` string) \nCLUSTERED BY (event_id) INTO 16 BUCKETS \nSTORED AS ORC \nTBLPROPERTIES(\u0027transactional\u0027\u003d\u0027true\u0027);"
    },
    {
      "cell_type": "markdown",
      "metadata": {},
      "source": "Check the content in `/data/santander/tweets_turismosdr` folder in the HDFS filesystem. Should be accessible throug the following url `hdfs://hdfs-namenode:8020/data/santander/tweets_turismosdr`.\n\nThe message is encoded in AVRO format, the message contains the scheme embedded, for simplicity no shcema registry used.\n```json\n{\n    \"namespace\": \"nifi\",\n    \"name\": \"tweet_summary\",\n    \"type\": \"record\",\n    \"fields\": [\n        {\"name\": \"id\", \"type\": \"long\"},\n        {\"name\": \"id_str\", \"type\": \"string\"},\n        {\"name\": \"created_at\", \"type\": \"string\"},\n        {\"name\": \"timestamp_ms\", \"type\": \"string\"},\n        {\"name\": \"lang\", \"type\": \"string\"},\n        {\"name\": \"text\", \"type\": \"string\"},\n\n        {\"name\": \"user\", \"type\": {\n            \"type\": \"record\",\n            \"name\": \"User\",\n            \"fields\": [\n                {\"name\": \"id\", \"type\": \"long\"},\n                {\"name\": \"id_str\", \"type\": \"string\"},\n                {\"name\": \"name\", \"type\": \"string\"},\n                {\"name\": \"screen_name\", \"type\": \"string\"},\n                {\"name\": \"location\", \"type\": [\"null\", \"string\"]},\n                {\"name\": \"url\", \"type\": [\"null\", \"string\"]},\n                {\"name\": \"description\", \"type\": [\"null\", \"string\"]},\n                {\"name\": \"followers_count\", \"type\": \"long\"},\n                {\"name\": \"friends_count\", \"type\": \"long\"}\n            ]\n        }},\n\n        {\"name\": \"entities\", \"type\": {\n            \"type\": \"record\",\n            \"name\": \"Entities\",\n            \"fields\": [\n                {\"name\": \"hashtags\", \"type\": {\n                    \"type\": \"array\", \"items\": {\n                        \"type\": \"record\",\n                        \"name\": \"Hashtag\",\n                        \"fields\": [\n                            {\"name\": \"text\", \"type\": \"string\"}\n                        ]\n                    }\n                }},\n                {\"name\": \"user_mentions\", \"type\": {\n                    \"type\": \"array\", \"items\": {\n                        \"type\": \"record\",\n                        \"name\": \"UserMention\",\n                        \"fields\": [\n                            {\"name\": \"id\", \"type\": \"long\"},\n                            {\"name\": \"id_str\", \"type\": \"string\"},\n                            {\"name\": \"screen_name\", \"type\": \"string\"},\n                            {\"name\": \"name\", \"type\": \"string\"}\n                        ]\n                    }\n                }}\n            ]\n        }}\n    ]\n}\n```\n"
    },
    {
      "cell_type": "code",
      "execution_count": 8,
      "metadata": {
        "autoscroll": "auto"
      },
      "outputs": [],
      "source": "%sh\n\n\nhdfs dfs -ls /data/santander/tweets_turismosdr\n\n#hdfs dfs -rm /data/santander/tweets_turismosdr/*"
    },
    {
      "cell_type": "code",
      "execution_count": 9,
      "metadata": {
        "autoscroll": "auto"
      },
      "outputs": [],
      "source": "%sh\n\nhdfs dfs -cat /data/santander/tweets_turismosdr/008b2678-a93b-488a-918f-de4919d26655\n"
    },
    {
      "cell_type": "code",
      "execution_count": 10,
      "metadata": {
        "autoscroll": "auto"
      },
      "outputs": [],
      "source": "%hive\n\nDROP TABLE tweets_turismosdr;\nCREATE EXTERNAL TABLE tweets_turismosdr\nROW FORMAT SERDE \u0027org.apache.hadoop.hive.serde2.avro.AvroSerDe\u0027 \nSTORED as INPUTFORMAT \u0027org.apache.hadoop.hive.ql.io.avro.AvroContainerInputFormat\u0027 \nOUTPUTFORMAT \u0027org.apache.hadoop.hive.ql.io.avro.AvroContainerOutputFormat\u0027 \nLOCATION \u0027hdfs://hdfs-namenode:8020/data/santander/tweets_turismosdr\u0027\nTBLPROPERTIES (\u0027avro.schema.literal\u0027\u003d\u0027{\n    \"namespace\": \"nifi\",\n    \"name\": \"tweet_summary\",\n    \"type\": \"record\",\n    \"fields\": [\n        {\"name\": \"id\", \"type\": \"long\"},\n        {\"name\": \"id_str\", \"type\": \"string\"},\n        {\"name\": \"created_at\", \"type\": \"string\"},\n        {\"name\": \"timestamp_ms\", \"type\": \"string\"},\n        {\"name\": \"lang\", \"type\": \"string\"},\n        {\"name\": \"text\", \"type\": \"string\"},\n\n        {\"name\": \"user\", \"type\": {\n            \"type\": \"record\",\n            \"name\": \"User\",\n            \"fields\": [\n                {\"name\": \"id\", \"type\": \"long\"},\n                {\"name\": \"id_str\", \"type\": \"string\"},\n                {\"name\": \"name\", \"type\": \"string\"},\n                {\"name\": \"screen_name\", \"type\": \"string\"},\n                {\"name\": \"location\", \"type\": [\"null\", \"string\"]},\n                {\"name\": \"url\", \"type\": [\"null\", \"string\"]},\n                {\"name\": \"description\", \"type\": [\"null\", \"string\"]},\n                {\"name\": \"followers_count\", \"type\": \"long\"},\n                {\"name\": \"friends_count\", \"type\": \"long\"}\n            ]\n        }},\n\n        {\"name\": \"entities\", \"type\": {\n            \"type\": \"record\",\n            \"name\": \"Entities\",\n            \"fields\": [\n                {\"name\": \"hashtags\", \"type\": {\n                    \"type\": \"array\", \"items\": {\n                        \"type\": \"record\",\n                        \"name\": \"Hashtag\",\n                        \"fields\": [\n                            {\"name\": \"text\", \"type\": \"string\"}\n                        ]\n                    }\n                }},\n                {\"name\": \"user_mentions\", \"type\": {\n                    \"type\": \"array\", \"items\": {\n                        \"type\": \"record\",\n                        \"name\": \"UserMention\",\n                        \"fields\": [\n                            {\"name\": \"id\", \"type\": \"long\"},\n                            {\"name\": \"id_str\", \"type\": \"string\"},\n                            {\"name\": \"screen_name\", \"type\": \"string\"},\n                            {\"name\": \"name\", \"type\": \"string\"}\n                        ]\n                    }\n                }}\n            ]\n        }}\n    ]\n}\u0027);"
    },
    {
      "cell_type": "code",
      "execution_count": 11,
      "metadata": {
        "autoscroll": "auto"
      },
      "outputs": [],
      "source": "%hive\n\nselect * from tweets_turismosdr;\n"
    },
    {
      "cell_type": "raw",
      "metadata": {
        "format": "text/plain"
      },
      "source": "%hive\n"
    }
  ]
}