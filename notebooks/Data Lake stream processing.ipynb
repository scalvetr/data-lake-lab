﻿{
  "metadata": {
    "name": "Data Lake: stream processing",
    "kernelspec": {
      "language": "scala",
      "name": "spark2-scala"
    },
    "language_info": {
      "codemirror_mode": "text/x-scala",
      "file_extension": ".scala",
      "mimetype": "text/x-scala",
      "name": "scala",
      "pygments_lexer": "scala"
    }
  },
  "nbformat": 4,
  "nbformat_minor": 2,
  "cells": [
    {
      "cell_type": "markdown",
      "metadata": {},
      "source": "# Batch Stream with Spark\n\n## Spark Configuration\n| Setting | Value | Description |\n| ---- | ---- | ---- |\n| spark.master | spark://spark-master:7077 | - |\n| spark.jars.packages | org.apache.spark:spark-avro_2.11:2.4.0,org.apache.spark:spark-sql-kafka-0-10_2.11 | - |"
    },
    {
      "cell_type": "code",
      "execution_count": 1,
      "metadata": {
        "autoscroll": "auto"
      },
      "outputs": [],
      "source": "%pyspark\n\n\n# `from_avro` requires Avro schema in JSON string format.\njsonFormatSchema \u003d open(\"/opt/workspace/schemas/tweet-summary-event-avro-schema.avsc\", \"r\").read()\n\nprint(jsonFormatSchema)\n"
    },
    {
      "cell_type": "code",
      "execution_count": 2,
      "metadata": {
        "autoscroll": "auto"
      },
      "outputs": [],
      "source": "%pyspark\n\nfrom pyspark.sql.avro.functions import from_avro, to_avro\n\ndf \u003d spark\\\n  .readStream\\\n  .format(\"kafka\")\\\n  .option(\"kafka.bootstrap.servers\", \"kafka:29092\")\\\n  .option(\"subscribe\", \"santander-in-turismosdr-tweets\")\\\n  .load()\n\n# 1. Decode the Avro data into a struct;\n# 2. Filter by column `language`;\n# 3. Encode the column `user_name` in Avro format.\noutput \u003d df\\\n  .select(from_avro(\"value\", jsonFormatSchema).alias(\"tweet\"))\\\n  .where(\u0027tweet.lang \u003d\u003d \"en\"\u0027)\\\n  .select(to_avro(\"user.name\").alias(\"user_name\"))\n\nquery \u003d output\\\n  .writeStream\\\n  .format(\"kafka\")\\\n  .option(\"kafka.bootstrap.servers\", \"kafka:29092\")\\\n  .option(\"topic\", \"santander-in-turismosdr-tweets-summary\")\\\n  .option(\"checkpointLocation\", \"hdfs://hdfs-namenode:8020/data/tmp/santander-in-turismosdr-tweets-summary-checkpoint\")\\\n  .start()\n"
    },
    {
      "cell_type": "raw",
      "metadata": {
        "format": "text/plain"
      },
      "source": "%pyspark\n"
    }
  ]
}