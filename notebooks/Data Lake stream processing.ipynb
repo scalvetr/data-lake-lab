﻿{
  "metadata": {
    "name": "Data Lake: stream processing",
    "kernelspec": {
      "language": "scala",
      "name": "spark2-scala"
    },
    "language_info": {
      "codemirror_mode": "text/x-scala",
      "file_extension": ".scala",
      "mimetype": "text/x-scala",
      "name": "scala",
      "pygments_lexer": "scala"
    }
  },
  "nbformat": 4,
  "nbformat_minor": 2,
  "cells": [
    {
      "cell_type": "markdown",
      "metadata": {},
      "source": "# Batch Stream with Spark\n\n## Spark Configuration\n| Setting | Value | Description |\n| ---- | ---- | ---- |\n| spark.master | spark://spark-master:7077 | - |\n| spark.jars.packages | org.apache.spark:spark-avro_2.11:2.4.0,org.apache.spark:spark-sql-kafka-0-10_2.11:2.4.0,com.databricks:spark-avro_2.11:4.0.0 | - |"
    },
    {
      "cell_type": "code",
      "execution_count": 1,
      "metadata": {
        "autoscroll": "auto"
      },
      "outputs": [],
      "source": "%pyspark\n\n\n# `from_avro` requires Avro schema in JSON string format.\njsonFormatSchema \u003d open(\"/opt/workspace/schemas/tweet-summary-event-avro-schema.avsc\", \"r\").read()\n\nprint(jsonFormatSchema)"
    },
    {
      "cell_type": "code",
      "execution_count": 2,
      "metadata": {
        "autoscroll": "auto"
      },
      "outputs": [],
      "source": "%pyspark\n\n# from pyspark.sql.avro.functions import from_avro, to_avro -\u003e for scala 2.12\nimport avro.schema\nfrom avro.datafile import DataFileReader, DataFileWriter\n\nschema \u003d avro.schema.parse(jsonFormatSchema)\n\ndf \u003d spark\\\n  .readStream\\\n  .format(\"kafka\")\\\n  .option(\"kafka.bootstrap.servers\", \"kafka:29092\")\\\n  .option(\"subscribe\", \"santander-in-turismosdr-tweets\")\\\n  .load()\n\n# 1. Decode the Avro data into a struct;\n# 2. Filter by column `favorite_color`;\n# 3. Encode the column `name` in Avro format.\noutput \u003d df\\\n  .select(from_avro(\"value\", jsonFormatSchema).alias(\"tweet\"))\\\n  .where(\u0027user.favorite_color \u003d\u003d \"red\"\u0027)\\\n  .select(to_avro(\"user.name\").alias(\"value\"))\n\nquery \u003d output\\\n  .writeStream\\\n  .format(\"kafka\")\\\n  .option(\"kafka.bootstrap.servers\", \"host1:port1,host2:port2\")\\\n  .option(\"topic\", \"santander-in-turismosdr-tweets-summary\")\\\n  .start()"
    },
    {
      "cell_type": "markdown",
      "metadata": {},
      "source": ""
    }
  ]
}